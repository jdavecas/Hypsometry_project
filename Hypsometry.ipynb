{
 "cells": [
  {
   "cell_type": "code",
   "execution_count": 20,
   "metadata": {},
   "outputs": [],
   "source": [
    "import os\n",
    "import numpy as np\n",
    "import matplotlib.pyplot as plot\n",
    "from pathlib import Path\n",
    "import folium\n",
    "from folium import plugins\n",
    "import mapclassify\n",
    "import geopandas as gpd\n",
    "import pandas as pd\n",
    "import glob \n",
    "import plotly.graph_objects as go\n",
    "import fiona"
   ]
  },
  {
   "cell_type": "code",
   "execution_count": 27,
   "metadata": {},
   "outputs": [
    {
     "data": {
      "text/plain": [
       "'/Users/josele/Library/CloudStorage/GoogleDrive-ejdvc757@gmail.com/Other computers/My MacBook Pro/PhD/HG_SWOT/Hypsometry/Hypsometry_project'"
      ]
     },
     "execution_count": 27,
     "metadata": {},
     "output_type": "execute_result"
    }
   ],
   "source": [
    "#Get the current working directory\n",
    "#os.chdir(\"..\") Used only fto go down one directory\n",
    "os.getcwd()"
   ]
  },
  {
   "cell_type": "code",
   "execution_count": 28,
   "metadata": {},
   "outputs": [
    {
     "data": {
      "text/plain": [
       "(['SWOT_L2_HR_RiverSP/SWOT_L2_HR_RiverSP_Node_010_022_NA_20240125T182836_20240125T182847_PIC0_01/SWOT_L2_HR_RiverSP_Node_010_022_NA_20240125T182836_20240125T182847_PIC0_01.shp',\n",
       "  'SWOT_L2_HR_RiverSP/SWOT_L2_HR_RiverSP_Node_007_022_NA_20231124T041320_20231124T041331_PIC0_01/SWOT_L2_HR_RiverSP_Node_007_022_NA_20231124T041320_20231124T041331_PIC0_01.shp',\n",
       "  'SWOT_L2_HR_RiverSP/SWOT_L2_HR_RiverSP_Node_008_535_SA_20240102T090319_20240102T090321_PIC0_01/SWOT_L2_HR_RiverSP_Node_008_535_SA_20240102T090319_20240102T090321_PIC0_01.shp',\n",
       "  'SWOT_L2_HR_RiverSP/SWOT_L2_HR_RiverSP_Node_009_022_NA_20240104T214331_20240104T214342_PIC0_01/SWOT_L2_HR_RiverSP_Node_009_022_NA_20240104T214331_20240104T214342_PIC0_01.shp',\n",
       "  'SWOT_L2_HR_RiverSP/SWOT_L2_HR_RiverSP_Node_008_022_NA_20231215T005824_20231215T005835_PIC0_01/SWOT_L2_HR_RiverSP_Node_008_022_NA_20231215T005824_20231215T005835_PIC0_01.shp'],\n",
       " ['SWOT_L2_HR_RiverSP/SWOT_L2_HR_RiverSP_Reach_008_022_NA_20231215T005824_20231215T005835_PIC0_01/SWOT_L2_HR_RiverSP_Reach_008_022_NA_20231215T005824_20231215T005835_PIC0_01.shp',\n",
       "  'SWOT_L2_HR_RiverSP/SWOT_L2_HR_RiverSP_Reach_008_535_SA_20240102T090319_20240102T090321_PIC0_01/SWOT_L2_HR_RiverSP_Reach_008_535_SA_20240102T090319_20240102T090321_PIC0_01.shp',\n",
       "  'SWOT_L2_HR_RiverSP/SWOT_L2_HR_RiverSP_Reach_009_022_NA_20240104T214331_20240104T214342_PIC0_01/SWOT_L2_HR_RiverSP_Reach_009_022_NA_20240104T214331_20240104T214342_PIC0_01.shp',\n",
       "  'SWOT_L2_HR_RiverSP/SWOT_L2_HR_RiverSP_Reach_007_022_NA_20231124T041320_20231124T041331_PIC0_01/SWOT_L2_HR_RiverSP_Reach_007_022_NA_20231124T041320_20231124T041331_PIC0_01.shp',\n",
       "  'SWOT_L2_HR_RiverSP/SWOT_L2_HR_RiverSP_Reach_010_022_NA_20240125T182836_20240125T182847_PIC0_01/SWOT_L2_HR_RiverSP_Reach_010_022_NA_20240125T182836_20240125T182847_PIC0_01.shp'])"
      ]
     },
     "execution_count": 28,
     "metadata": {},
     "output_type": "execute_result"
    }
   ],
   "source": [
    "#List all the shapefiles in the directory and split them into nodes and reaches\n",
    "shpNd = glob.glob('SWOT_L2_HR_RiverSP/**/*Node*.shp', recursive=True) #Nodes\n",
    "shpRch = glob.glob('SWOT_L2_HR_RiverSP/**/*Reach*.shp', recursive=True) #Reaches\n",
    "shpNd,shpRch"
   ]
  },
  {
   "cell_type": "code",
   "execution_count": 29,
   "metadata": {},
   "outputs": [
    {
     "data": {
      "text/plain": [
       "['SWOT_L2_HR_RiverSP/SWOT_L2_HR_RiverSP_Node_010_022_NA_20240125T182836_20240125T182847_PIC0_01/SWOT_L2_HR_RiverSP_Node_010_022_NA_20240125T182836_20240125T182847_PIC0_01.shp',\n",
       " 'SWOT_L2_HR_RiverSP/SWOT_L2_HR_RiverSP_Node_007_022_NA_20231124T041320_20231124T041331_PIC0_01/SWOT_L2_HR_RiverSP_Node_007_022_NA_20231124T041320_20231124T041331_PIC0_01.shp',\n",
       " 'SWOT_L2_HR_RiverSP/SWOT_L2_HR_RiverSP_Node_009_022_NA_20240104T214331_20240104T214342_PIC0_01/SWOT_L2_HR_RiverSP_Node_009_022_NA_20240104T214331_20240104T214342_PIC0_01.shp',\n",
       " 'SWOT_L2_HR_RiverSP/SWOT_L2_HR_RiverSP_Node_008_022_NA_20231215T005824_20231215T005835_PIC0_01/SWOT_L2_HR_RiverSP_Node_008_022_NA_20231215T005824_20231215T005835_PIC0_01.shp']"
      ]
     },
     "execution_count": 29,
     "metadata": {},
     "output_type": "execute_result"
    }
   ],
   "source": [
    "shpNd_022_NA = glob.glob('SWOT_L2_HR_RiverSP/**/*Node*_022_NA*.shp', recursive=True) #Nodes\n",
    "shpNd_022_NA"
   ]
  },
  {
   "cell_type": "code",
   "execution_count": 32,
   "metadata": {},
   "outputs": [
    {
     "data": {
      "text/html": [
       "<div>\n",
       "<style scoped>\n",
       "    .dataframe tbody tr th:only-of-type {\n",
       "        vertical-align: middle;\n",
       "    }\n",
       "\n",
       "    .dataframe tbody tr th {\n",
       "        vertical-align: top;\n",
       "    }\n",
       "\n",
       "    .dataframe thead th {\n",
       "        text-align: right;\n",
       "    }\n",
       "</style>\n",
       "<table border=\"1\" class=\"dataframe\">\n",
       "  <thead>\n",
       "    <tr style=\"text-align: right;\">\n",
       "      <th></th>\n",
       "      <th>reach_id</th>\n",
       "      <th>node_id</th>\n",
       "      <th>time</th>\n",
       "      <th>time_tai</th>\n",
       "      <th>time_str</th>\n",
       "      <th>lat</th>\n",
       "      <th>lon</th>\n",
       "      <th>lat_u</th>\n",
       "      <th>lon_u</th>\n",
       "      <th>river_name</th>\n",
       "      <th>...</th>\n",
       "      <th>p_wse</th>\n",
       "      <th>p_wse_var</th>\n",
       "      <th>p_width</th>\n",
       "      <th>p_wid_var</th>\n",
       "      <th>p_dist_out</th>\n",
       "      <th>p_length</th>\n",
       "      <th>p_dam_id</th>\n",
       "      <th>p_n_ch_max</th>\n",
       "      <th>p_n_ch_mod</th>\n",
       "      <th>geometry</th>\n",
       "    </tr>\n",
       "  </thead>\n",
       "  <tbody>\n",
       "    <tr>\n",
       "      <th>0</th>\n",
       "      <td>71185300013</td>\n",
       "      <td>71185300010013</td>\n",
       "      <td>7.541144e+08</td>\n",
       "      <td>7.541145e+08</td>\n",
       "      <td>2023-11-24T04:13:42Z</td>\n",
       "      <td>55.718060</td>\n",
       "      <td>-106.423609</td>\n",
       "      <td>0.000005</td>\n",
       "      <td>0.000025</td>\n",
       "      <td>no_data</td>\n",
       "      <td>...</td>\n",
       "      <td>380.9</td>\n",
       "      <td>0.0</td>\n",
       "      <td>3867.5</td>\n",
       "      <td>250342.472</td>\n",
       "      <td>218.0</td>\n",
       "      <td>218.113299</td>\n",
       "      <td>0</td>\n",
       "      <td>2</td>\n",
       "      <td>2</td>\n",
       "      <td>POINT (-106.42468 55.71879)</td>\n",
       "    </tr>\n",
       "    <tr>\n",
       "      <th>1</th>\n",
       "      <td>71185300013</td>\n",
       "      <td>71185300010023</td>\n",
       "      <td>7.541144e+08</td>\n",
       "      <td>7.541145e+08</td>\n",
       "      <td>2023-11-24T04:13:42Z</td>\n",
       "      <td>55.717397</td>\n",
       "      <td>-106.418803</td>\n",
       "      <td>0.000003</td>\n",
       "      <td>0.000015</td>\n",
       "      <td>no_data</td>\n",
       "      <td>...</td>\n",
       "      <td>380.9</td>\n",
       "      <td>0.0</td>\n",
       "      <td>2071.0</td>\n",
       "      <td>3933.760</td>\n",
       "      <td>403.0</td>\n",
       "      <td>185.227678</td>\n",
       "      <td>0</td>\n",
       "      <td>1</td>\n",
       "      <td>1</td>\n",
       "      <td>POINT (-106.42209 55.71981)</td>\n",
       "    </tr>\n",
       "    <tr>\n",
       "      <th>2</th>\n",
       "      <td>71185300013</td>\n",
       "      <td>71185300010033</td>\n",
       "      <td>7.541144e+08</td>\n",
       "      <td>7.541145e+08</td>\n",
       "      <td>2023-11-24T04:13:42Z</td>\n",
       "      <td>55.718864</td>\n",
       "      <td>-106.416462</td>\n",
       "      <td>0.000003</td>\n",
       "      <td>0.000014</td>\n",
       "      <td>no_data</td>\n",
       "      <td>...</td>\n",
       "      <td>380.9</td>\n",
       "      <td>0.0</td>\n",
       "      <td>2036.0</td>\n",
       "      <td>2361.040</td>\n",
       "      <td>603.0</td>\n",
       "      <td>200.109068</td>\n",
       "      <td>0</td>\n",
       "      <td>1</td>\n",
       "      <td>1</td>\n",
       "      <td>POINT (-106.41974 55.72087)</td>\n",
       "    </tr>\n",
       "    <tr>\n",
       "      <th>3</th>\n",
       "      <td>71185300013</td>\n",
       "      <td>71185300010043</td>\n",
       "      <td>7.541144e+08</td>\n",
       "      <td>7.541145e+08</td>\n",
       "      <td>2023-11-24T04:13:42Z</td>\n",
       "      <td>55.721192</td>\n",
       "      <td>-106.415706</td>\n",
       "      <td>0.000003</td>\n",
       "      <td>0.000015</td>\n",
       "      <td>no_data</td>\n",
       "      <td>...</td>\n",
       "      <td>380.9</td>\n",
       "      <td>0.0</td>\n",
       "      <td>2057.0</td>\n",
       "      <td>2061.760</td>\n",
       "      <td>815.0</td>\n",
       "      <td>212.132051</td>\n",
       "      <td>0</td>\n",
       "      <td>1</td>\n",
       "      <td>1</td>\n",
       "      <td>POINT (-106.41740 55.72218)</td>\n",
       "    </tr>\n",
       "    <tr>\n",
       "      <th>4</th>\n",
       "      <td>71185300013</td>\n",
       "      <td>71185300010053</td>\n",
       "      <td>7.541144e+08</td>\n",
       "      <td>7.541145e+08</td>\n",
       "      <td>2023-11-24T04:13:42Z</td>\n",
       "      <td>55.721636</td>\n",
       "      <td>-106.410743</td>\n",
       "      <td>0.000003</td>\n",
       "      <td>0.000014</td>\n",
       "      <td>no_data</td>\n",
       "      <td>...</td>\n",
       "      <td>380.9</td>\n",
       "      <td>0.0</td>\n",
       "      <td>2099.0</td>\n",
       "      <td>4230.240</td>\n",
       "      <td>1012.0</td>\n",
       "      <td>196.676029</td>\n",
       "      <td>0</td>\n",
       "      <td>1</td>\n",
       "      <td>1</td>\n",
       "      <td>POINT (-106.41512 55.72356)</td>\n",
       "    </tr>\n",
       "  </tbody>\n",
       "</table>\n",
       "<p>5 rows × 53 columns</p>\n",
       "</div>"
      ],
      "text/plain": [
       "      reach_id         node_id          time      time_tai  \\\n",
       "0  71185300013  71185300010013  7.541144e+08  7.541145e+08   \n",
       "1  71185300013  71185300010023  7.541144e+08  7.541145e+08   \n",
       "2  71185300013  71185300010033  7.541144e+08  7.541145e+08   \n",
       "3  71185300013  71185300010043  7.541144e+08  7.541145e+08   \n",
       "4  71185300013  71185300010053  7.541144e+08  7.541145e+08   \n",
       "\n",
       "               time_str        lat         lon     lat_u     lon_u river_name  \\\n",
       "0  2023-11-24T04:13:42Z  55.718060 -106.423609  0.000005  0.000025    no_data   \n",
       "1  2023-11-24T04:13:42Z  55.717397 -106.418803  0.000003  0.000015    no_data   \n",
       "2  2023-11-24T04:13:42Z  55.718864 -106.416462  0.000003  0.000014    no_data   \n",
       "3  2023-11-24T04:13:42Z  55.721192 -106.415706  0.000003  0.000015    no_data   \n",
       "4  2023-11-24T04:13:42Z  55.721636 -106.410743  0.000003  0.000014    no_data   \n",
       "\n",
       "   ...  p_wse  p_wse_var  p_width   p_wid_var  p_dist_out    p_length  \\\n",
       "0  ...  380.9        0.0   3867.5  250342.472       218.0  218.113299   \n",
       "1  ...  380.9        0.0   2071.0    3933.760       403.0  185.227678   \n",
       "2  ...  380.9        0.0   2036.0    2361.040       603.0  200.109068   \n",
       "3  ...  380.9        0.0   2057.0    2061.760       815.0  212.132051   \n",
       "4  ...  380.9        0.0   2099.0    4230.240      1012.0  196.676029   \n",
       "\n",
       "   p_dam_id  p_n_ch_max  p_n_ch_mod                     geometry  \n",
       "0         0           2           2  POINT (-106.42468 55.71879)  \n",
       "1         0           1           1  POINT (-106.42209 55.71981)  \n",
       "2         0           1           1  POINT (-106.41974 55.72087)  \n",
       "3         0           1           1  POINT (-106.41740 55.72218)  \n",
       "4         0           1           1  POINT (-106.41512 55.72356)  \n",
       "\n",
       "[5 rows x 53 columns]"
      ]
     },
     "execution_count": 32,
     "metadata": {},
     "output_type": "execute_result"
    }
   ],
   "source": [
    "gpd.read_file(shpNd_022_NA[1]).head()"
   ]
  },
  {
   "cell_type": "code",
   "execution_count": 35,
   "metadata": {},
   "outputs": [
    {
     "name": "stdout",
     "output_type": "stream",
     "text": [
      "-999999999999.0\n"
     ]
    }
   ],
   "source": [
    "print(gpd.read_file(shpNd_022_NA[1]).get('width').iloc[0])"
   ]
  },
  {
   "cell_type": "code",
   "execution_count": 38,
   "metadata": {},
   "outputs": [
    {
     "ename": "ValueError",
     "evalue": "The truth value of a Series is ambiguous. Use a.empty, a.bool(), a.item(), a.any() or a.all().",
     "output_type": "error",
     "traceback": [
      "\u001b[0;31m---------------------------------------------------------------------------\u001b[0m",
      "\u001b[0;31mValueError\u001b[0m                                Traceback (most recent call last)",
      "\u001b[0;32m/var/folders/tw/gssymbd92cg5hkyl8_d_jbqh0000gn/T/ipykernel_720/979766461.py\u001b[0m in \u001b[0;36m?\u001b[0;34m()\u001b[0m\n\u001b[1;32m      1\u001b[0m \u001b[0mframes\u001b[0m\u001b[0;34m=\u001b[0m\u001b[0;34m{\u001b[0m\u001b[0;34m}\u001b[0m\u001b[0;34m\u001b[0m\u001b[0;34m\u001b[0m\u001b[0m\n\u001b[1;32m      2\u001b[0m \u001b[0;32mfor\u001b[0m \u001b[0mi\u001b[0m \u001b[0;32min\u001b[0m \u001b[0mrange\u001b[0m\u001b[0;34m(\u001b[0m\u001b[0mlen\u001b[0m\u001b[0;34m(\u001b[0m\u001b[0mshpNd_022_NA\u001b[0m\u001b[0;34m)\u001b[0m\u001b[0;34m)\u001b[0m\u001b[0;34m:\u001b[0m\u001b[0;34m\u001b[0m\u001b[0;34m\u001b[0m\u001b[0m\n\u001b[0;32m----> 3\u001b[0;31m     \u001b[0;32mif\u001b[0m \u001b[0mgpd\u001b[0m\u001b[0;34m.\u001b[0m\u001b[0mread_file\u001b[0m\u001b[0;34m(\u001b[0m\u001b[0mshpNd_022_NA\u001b[0m\u001b[0;34m[\u001b[0m\u001b[0mi\u001b[0m\u001b[0;34m]\u001b[0m\u001b[0;34m)\u001b[0m\u001b[0;34m.\u001b[0m\u001b[0mget\u001b[0m\u001b[0;34m(\u001b[0m\u001b[0;34m'wse'\u001b[0m\u001b[0;34m)\u001b[0m \u001b[0;32mor\u001b[0m \u001b[0mgpd\u001b[0m\u001b[0;34m.\u001b[0m\u001b[0mread_file\u001b[0m\u001b[0;34m(\u001b[0m\u001b[0mshpNd_022_NA\u001b[0m\u001b[0;34m[\u001b[0m\u001b[0mi\u001b[0m\u001b[0;34m]\u001b[0m\u001b[0;34m)\u001b[0m\u001b[0;34m.\u001b[0m\u001b[0mget\u001b[0m\u001b[0;34m(\u001b[0m\u001b[0;34m'width'\u001b[0m\u001b[0;34m)\u001b[0m \u001b[0;34m!=\u001b[0m \u001b[0;34m-\u001b[0m\u001b[0;36m999999999999.0\u001b[0m\u001b[0;34m:\u001b[0m\u001b[0;34m\u001b[0m\u001b[0;34m\u001b[0m\u001b[0m\n\u001b[0m\u001b[1;32m      4\u001b[0m         frames[i] = pd.concat([gpd.read_file(shpNd_022_NA[i]).get('node_id'), gpd.read_file(shpNd_022_NA[i]).get('river_name'), gpd.read_file(shpNd_022_NA[i]).get('lat'), \n\u001b[1;32m      5\u001b[0m         gpd.read_file(shpNd_022_NA[i]).get('lon'), gpd.read_file(shpNd_022_NA[i]).get('wse'), gpd.read_file(shpNd_022_NA[i]).get('width')], axis=1)\n\u001b[1;32m      6\u001b[0m \u001b[0;34m\u001b[0m\u001b[0m\n",
      "\u001b[0;32m~/anaconda3/envs/hypsometry/lib/python3.11/site-packages/pandas/core/generic.py\u001b[0m in \u001b[0;36m?\u001b[0;34m(self)\u001b[0m\n\u001b[1;32m   1517\u001b[0m     \u001b[0;34m@\u001b[0m\u001b[0mfinal\u001b[0m\u001b[0;34m\u001b[0m\u001b[0;34m\u001b[0m\u001b[0m\n\u001b[1;32m   1518\u001b[0m     \u001b[0;32mdef\u001b[0m \u001b[0m__nonzero__\u001b[0m\u001b[0;34m(\u001b[0m\u001b[0mself\u001b[0m\u001b[0;34m)\u001b[0m \u001b[0;34m->\u001b[0m \u001b[0mNoReturn\u001b[0m\u001b[0;34m:\u001b[0m\u001b[0;34m\u001b[0m\u001b[0;34m\u001b[0m\u001b[0m\n\u001b[0;32m-> 1519\u001b[0;31m         raise ValueError(\n\u001b[0m\u001b[1;32m   1520\u001b[0m             \u001b[0;34mf\"The truth value of a {type(self).__name__} is ambiguous. \"\u001b[0m\u001b[0;34m\u001b[0m\u001b[0;34m\u001b[0m\u001b[0m\n\u001b[1;32m   1521\u001b[0m             \u001b[0;34m\"Use a.empty, a.bool(), a.item(), a.any() or a.all().\"\u001b[0m\u001b[0;34m\u001b[0m\u001b[0;34m\u001b[0m\u001b[0m\n\u001b[1;32m   1522\u001b[0m         )\n",
      "\u001b[0;31mValueError\u001b[0m: The truth value of a Series is ambiguous. Use a.empty, a.bool(), a.item(), a.any() or a.all()."
     ]
    }
   ],
   "source": [
    "frames={}\n",
    "for i in range(len(shpNd_022_NA)):\n",
    "    if gpd.read_file(shpNd_022_NA[i]).get('wse') or gpd.read_file(shpNd_022_NA[i]).get('width') != -999999999999.0:\n",
    "        frames[i] = pd.concat([gpd.read_file(shpNd_022_NA[i]).get('node_id'), gpd.read_file(shpNd_022_NA[i]).get('river_name'), gpd.read_file(shpNd_022_NA[i]).get('lat'), \n",
    "        gpd.read_file(shpNd_022_NA[i]).get('lon'), gpd.read_file(shpNd_022_NA[i]).get('wse'), gpd.read_file(shpNd_022_NA[i]).get('width')], axis=1)\n",
    "   "
   ]
  },
  {
   "cell_type": "code",
   "execution_count": 34,
   "metadata": {},
   "outputs": [
    {
     "data": {
      "text/html": [
       "<div>\n",
       "<style scoped>\n",
       "    .dataframe tbody tr th:only-of-type {\n",
       "        vertical-align: middle;\n",
       "    }\n",
       "\n",
       "    .dataframe tbody tr th {\n",
       "        vertical-align: top;\n",
       "    }\n",
       "\n",
       "    .dataframe thead th {\n",
       "        text-align: right;\n",
       "    }\n",
       "</style>\n",
       "<table border=\"1\" class=\"dataframe\">\n",
       "  <thead>\n",
       "    <tr style=\"text-align: right;\">\n",
       "      <th></th>\n",
       "      <th>node_id</th>\n",
       "      <th>lat</th>\n",
       "      <th>lon</th>\n",
       "      <th>wse</th>\n",
       "      <th>width</th>\n",
       "    </tr>\n",
       "  </thead>\n",
       "  <tbody>\n",
       "    <tr>\n",
       "      <th>0</th>\n",
       "      <td>71185300010013</td>\n",
       "      <td>5.571828e+01</td>\n",
       "      <td>-1.064237e+02</td>\n",
       "      <td>3.822356e+02</td>\n",
       "      <td>-1.000000e+12</td>\n",
       "    </tr>\n",
       "    <tr>\n",
       "      <th>1</th>\n",
       "      <td>71185300010023</td>\n",
       "      <td>5.571684e+01</td>\n",
       "      <td>-1.064182e+02</td>\n",
       "      <td>3.822997e+02</td>\n",
       "      <td>-1.000000e+12</td>\n",
       "    </tr>\n",
       "    <tr>\n",
       "      <th>2</th>\n",
       "      <td>71185300010033</td>\n",
       "      <td>5.571834e+01</td>\n",
       "      <td>-1.064157e+02</td>\n",
       "      <td>3.823456e+02</td>\n",
       "      <td>-1.000000e+12</td>\n",
       "    </tr>\n",
       "    <tr>\n",
       "      <th>3</th>\n",
       "      <td>71185300010043</td>\n",
       "      <td>5.572122e+01</td>\n",
       "      <td>-1.064151e+02</td>\n",
       "      <td>3.823992e+02</td>\n",
       "      <td>-1.000000e+12</td>\n",
       "    </tr>\n",
       "    <tr>\n",
       "      <th>4</th>\n",
       "      <td>71185300010053</td>\n",
       "      <td>5.572155e+01</td>\n",
       "      <td>-1.064105e+02</td>\n",
       "      <td>3.823331e+02</td>\n",
       "      <td>-1.000000e+12</td>\n",
       "    </tr>\n",
       "    <tr>\n",
       "      <th>...</th>\n",
       "      <td>...</td>\n",
       "      <td>...</td>\n",
       "      <td>...</td>\n",
       "      <td>...</td>\n",
       "      <td>...</td>\n",
       "    </tr>\n",
       "    <tr>\n",
       "      <th>45010</th>\n",
       "      <td>75362700040213</td>\n",
       "      <td>-1.000000e+12</td>\n",
       "      <td>-1.000000e+12</td>\n",
       "      <td>-1.000000e+12</td>\n",
       "      <td>-1.000000e+12</td>\n",
       "    </tr>\n",
       "    <tr>\n",
       "      <th>45011</th>\n",
       "      <td>75362700040223</td>\n",
       "      <td>-1.000000e+12</td>\n",
       "      <td>-1.000000e+12</td>\n",
       "      <td>-1.000000e+12</td>\n",
       "      <td>-1.000000e+12</td>\n",
       "    </tr>\n",
       "    <tr>\n",
       "      <th>45012</th>\n",
       "      <td>75362700040233</td>\n",
       "      <td>-1.000000e+12</td>\n",
       "      <td>-1.000000e+12</td>\n",
       "      <td>-1.000000e+12</td>\n",
       "      <td>-1.000000e+12</td>\n",
       "    </tr>\n",
       "    <tr>\n",
       "      <th>45013</th>\n",
       "      <td>75362700040243</td>\n",
       "      <td>-1.000000e+12</td>\n",
       "      <td>-1.000000e+12</td>\n",
       "      <td>-1.000000e+12</td>\n",
       "      <td>-1.000000e+12</td>\n",
       "    </tr>\n",
       "    <tr>\n",
       "      <th>45014</th>\n",
       "      <td>75362700040253</td>\n",
       "      <td>-1.000000e+12</td>\n",
       "      <td>-1.000000e+12</td>\n",
       "      <td>-1.000000e+12</td>\n",
       "      <td>-1.000000e+12</td>\n",
       "    </tr>\n",
       "  </tbody>\n",
       "</table>\n",
       "<p>45015 rows × 5 columns</p>\n",
       "</div>"
      ],
      "text/plain": [
       "              node_id           lat           lon           wse         width\n",
       "0      71185300010013  5.571828e+01 -1.064237e+02  3.822356e+02 -1.000000e+12\n",
       "1      71185300010023  5.571684e+01 -1.064182e+02  3.822997e+02 -1.000000e+12\n",
       "2      71185300010033  5.571834e+01 -1.064157e+02  3.823456e+02 -1.000000e+12\n",
       "3      71185300010043  5.572122e+01 -1.064151e+02  3.823992e+02 -1.000000e+12\n",
       "4      71185300010053  5.572155e+01 -1.064105e+02  3.823331e+02 -1.000000e+12\n",
       "...               ...           ...           ...           ...           ...\n",
       "45010  75362700040213 -1.000000e+12 -1.000000e+12 -1.000000e+12 -1.000000e+12\n",
       "45011  75362700040223 -1.000000e+12 -1.000000e+12 -1.000000e+12 -1.000000e+12\n",
       "45012  75362700040233 -1.000000e+12 -1.000000e+12 -1.000000e+12 -1.000000e+12\n",
       "45013  75362700040243 -1.000000e+12 -1.000000e+12 -1.000000e+12 -1.000000e+12\n",
       "45014  75362700040253 -1.000000e+12 -1.000000e+12 -1.000000e+12 -1.000000e+12\n",
       "\n",
       "[45015 rows x 5 columns]"
      ]
     },
     "execution_count": 34,
     "metadata": {},
     "output_type": "execute_result"
    }
   ],
   "source": [
    "frames[0]"
   ]
  },
  {
   "cell_type": "code",
   "execution_count": null,
   "metadata": {},
   "outputs": [],
   "source": [
    "#Read the shapefile. [0] is used to read the first shapefile in the list\n",
    "gpd.read_file(shpNd[1]).head()"
   ]
  },
  {
   "cell_type": "code",
   "execution_count": null,
   "metadata": {},
   "outputs": [],
   "source": [
    "m = gpd.read_file(shpNd[0]).explore('wse', cmap='viridis', legend=True)\n",
    "m"
   ]
  },
  {
   "cell_type": "code",
   "execution_count": null,
   "metadata": {},
   "outputs": [],
   "source": [
    "SWOT_HR_shp1 = SWOT_HR_shp1[['river_name','p_wse','p_width','geometry']]\n",
    "SWOT_HR_shp1 =SWOT_HR_shp1.rename(columns={'river_name': 'River Name','p_wse':'Water Surface Elevation','p_width':'River Width'})\n",
    "SWOT_HR_shp1.head()"
   ]
  },
  {
   "cell_type": "code",
   "execution_count": null,
   "metadata": {},
   "outputs": [],
   "source": [
    "L = SWOT_HR_shp1\n",
    "updated_m = L.explore(column='Water Surface Elevation', cmap='viridis', legend=True)\n",
    "\n",
    "updated_m"
   ]
  },
  {
   "cell_type": "code",
   "execution_count": null,
   "metadata": {},
   "outputs": [],
   "source": [
    "L.crs "
   ]
  },
  {
   "cell_type": "code",
   "execution_count": null,
   "metadata": {},
   "outputs": [],
   "source": [
    "files = glob.glob(\"**/*\")\n",
    "files"
   ]
  },
  {
   "cell_type": "code",
   "execution_count": null,
   "metadata": {},
   "outputs": [],
   "source": [
    "shapes =   glob.glob(os.path.join('SWOT_L2_HR_RiverSP','*','*.shp'))\n",
    "list_of_dfs = []\n",
    "for f in shapes:\n",
    "    df = gpd.read_file(f)\n",
    "    list_of_dfs.append(df)\n",
    "\n",
    "list_of_dfs[0]"
   ]
  },
  {
   "cell_type": "code",
   "execution_count": null,
   "metadata": {},
   "outputs": [],
   "source": [
    "list_of_dfs[1]"
   ]
  }
 ],
 "metadata": {
  "kernelspec": {
   "display_name": "hypsometry",
   "language": "python",
   "name": "python3"
  },
  "language_info": {
   "codemirror_mode": {
    "name": "ipython",
    "version": 3
   },
   "file_extension": ".py",
   "mimetype": "text/x-python",
   "name": "python",
   "nbconvert_exporter": "python",
   "pygments_lexer": "ipython3",
   "version": "3.11.6"
  }
 },
 "nbformat": 4,
 "nbformat_minor": 2
}
