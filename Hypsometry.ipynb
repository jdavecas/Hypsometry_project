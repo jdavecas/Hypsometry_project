{
 "cells": [
  {
   "cell_type": "code",
   "execution_count": 1,
   "metadata": {},
   "outputs": [],
   "source": [
    "import os\n",
    "import numpy as np\n",
    "import matplotlib.pyplot as plot\n",
    "from pathlib import Path\n",
    "import folium\n",
    "from folium import plugins\n",
    "import mapclassify\n",
    "import geopandas as gpd\n",
    "import pandas as pd\n",
    "import glob \n",
    "import plotly.graph_objects as go\n",
    "import fiona"
   ]
  },
  {
   "cell_type": "code",
   "execution_count": 2,
   "metadata": {},
   "outputs": [
    {
     "data": {
      "text/plain": [
       "'/Users/josele/Library/CloudStorage/GoogleDrive-ejdvc757@gmail.com/Other computers/My MacBook Pro/PhD/HG_SWOT/Hypsometry/Hypsometry_project'"
      ]
     },
     "execution_count": 2,
     "metadata": {},
     "output_type": "execute_result"
    }
   ],
   "source": [
    "#Get the current working directory\n",
    "#os.chdir(\"..\") Used only fto go down one directory\n",
    "os.getcwd()"
   ]
  },
  {
   "cell_type": "code",
   "execution_count": 3,
   "metadata": {},
   "outputs": [
    {
     "data": {
      "text/plain": [
       "(['SWOT_L2_HR_RiverSP/SWOT_L2_HR_RiverSP_Node_010_022_NA_20240125T182836_20240125T182847_PIC0_01/SWOT_L2_HR_RiverSP_Node_010_022_NA_20240125T182836_20240125T182847_PIC0_01.shp',\n",
       "  'SWOT_L2_HR_RiverSP/SWOT_L2_HR_RiverSP_Node_009_535_SA_20240123T054824_20240123T054826_PIC0_01/SWOT_L2_HR_RiverSP_Node_009_535_SA_20240123T054824_20240123T054826_PIC0_01.shp',\n",
       "  'SWOT_L2_HR_RiverSP/SWOT_L2_HR_RiverSP_Node_007_022_NA_20231124T041320_20231124T041331_PIC0_01/SWOT_L2_HR_RiverSP_Node_007_022_NA_20231124T041320_20231124T041331_PIC0_01.shp',\n",
       "  'SWOT_L2_HR_RiverSP/SWOT_L2_HR_RiverSP_Node_011_022_NA_20240215T151341_20240215T151352_PIC0_01/SWOT_L2_HR_RiverSP_Node_011_022_NA_20240215T151341_20240215T151352_PIC0_01.shp',\n",
       "  'SWOT_L2_HR_RiverSP/SWOT_L2_HR_RiverSP_Node_010_535_SA_20240213T023329_20240213T023331_PIC0_01/SWOT_L2_HR_RiverSP_Node_010_535_SA_20240213T023329_20240213T023331_PIC0_01.shp',\n",
       "  'SWOT_L2_HR_RiverSP/SWOT_L2_HR_RiverSP_Node_008_535_SA_20240102T090319_20240102T090321_PIC0_01/SWOT_L2_HR_RiverSP_Node_008_535_SA_20240102T090319_20240102T090321_PIC0_01.shp',\n",
       "  'SWOT_L2_HR_RiverSP/SWOT_L2_HR_RiverSP_Node_009_022_NA_20240104T214331_20240104T214342_PIC0_01/SWOT_L2_HR_RiverSP_Node_009_022_NA_20240104T214331_20240104T214342_PIC0_01.shp',\n",
       "  'SWOT_L2_HR_RiverSP/SWOT_L2_HR_RiverSP_Node_007_535_SA_20231212T121812_20231212T121814_PIC0_01/SWOT_L2_HR_RiverSP_Node_007_535_SA_20231212T121812_20231212T121814_PIC0_01.shp',\n",
       "  'SWOT_L2_HR_RiverSP/SWOT_L2_HR_RiverSP_Node_008_022_NA_20231215T005824_20231215T005835_PIC0_01/SWOT_L2_HR_RiverSP_Node_008_022_NA_20231215T005824_20231215T005835_PIC0_01.shp'],\n",
       " ['SWOT_L2_HR_RiverSP/SWOT_L2_HR_RiverSP_Reach_008_022_NA_20231215T005824_20231215T005835_PIC0_01/SWOT_L2_HR_RiverSP_Reach_008_022_NA_20231215T005824_20231215T005835_PIC0_01.shp',\n",
       "  'SWOT_L2_HR_RiverSP/SWOT_L2_HR_RiverSP_Reach_007_535_SA_20231212T121812_20231212T121814_PIC0_01/SWOT_L2_HR_RiverSP_Reach_007_535_SA_20231212T121812_20231212T121814_PIC0_01.shp',\n",
       "  'SWOT_L2_HR_RiverSP/SWOT_L2_HR_RiverSP_Reach_008_535_SA_20240102T090319_20240102T090321_PIC0_01/SWOT_L2_HR_RiverSP_Reach_008_535_SA_20240102T090319_20240102T090321_PIC0_01.shp',\n",
       "  'SWOT_L2_HR_RiverSP/SWOT_L2_HR_RiverSP_Reach_009_022_NA_20240104T214331_20240104T214342_PIC0_01/SWOT_L2_HR_RiverSP_Reach_009_022_NA_20240104T214331_20240104T214342_PIC0_01.shp',\n",
       "  'SWOT_L2_HR_RiverSP/SWOT_L2_HR_RiverSP_Reach_010_535_SA_20240213T023329_20240213T023331_PIC0_01/SWOT_L2_HR_RiverSP_Reach_010_535_SA_20240213T023329_20240213T023331_PIC0_01.shp',\n",
       "  'SWOT_L2_HR_RiverSP/SWOT_L2_HR_RiverSP_Reach_011_022_NA_20240215T151341_20240215T151352_PIC0_01/SWOT_L2_HR_RiverSP_Reach_011_022_NA_20240215T151341_20240215T151352_PIC0_01.shp',\n",
       "  'SWOT_L2_HR_RiverSP/SWOT_L2_HR_RiverSP_Reach_007_022_NA_20231124T041320_20231124T041331_PIC0_01/SWOT_L2_HR_RiverSP_Reach_007_022_NA_20231124T041320_20231124T041331_PIC0_01.shp',\n",
       "  'SWOT_L2_HR_RiverSP/SWOT_L2_HR_RiverSP_Reach_009_535_SA_20240123T054824_20240123T054826_PIC0_01/SWOT_L2_HR_RiverSP_Reach_009_535_SA_20240123T054824_20240123T054826_PIC0_01.shp',\n",
       "  'SWOT_L2_HR_RiverSP/SWOT_L2_HR_RiverSP_Reach_010_022_NA_20240125T182836_20240125T182847_PIC0_01/SWOT_L2_HR_RiverSP_Reach_010_022_NA_20240125T182836_20240125T182847_PIC0_01.shp'])"
      ]
     },
     "execution_count": 3,
     "metadata": {},
     "output_type": "execute_result"
    }
   ],
   "source": [
    "#List all the shapefiles in the directory and split them into nodes and reaches\n",
    "shpNd = glob.glob('SWOT_L2_HR_RiverSP/**/*Node*.shp', recursive=True) #Nodes\n",
    "shpRch = glob.glob('SWOT_L2_HR_RiverSP/**/*Reach*.shp', recursive=True) #Reaches\n",
    "shpNd,shpRch"
   ]
  },
  {
   "cell_type": "code",
   "execution_count": 4,
   "metadata": {},
   "outputs": [
    {
     "data": {
      "text/plain": [
       "['SWOT_L2_HR_RiverSP/SWOT_L2_HR_RiverSP_Node_010_022_NA_20240125T182836_20240125T182847_PIC0_01/SWOT_L2_HR_RiverSP_Node_010_022_NA_20240125T182836_20240125T182847_PIC0_01.shp',\n",
       " 'SWOT_L2_HR_RiverSP/SWOT_L2_HR_RiverSP_Node_007_022_NA_20231124T041320_20231124T041331_PIC0_01/SWOT_L2_HR_RiverSP_Node_007_022_NA_20231124T041320_20231124T041331_PIC0_01.shp',\n",
       " 'SWOT_L2_HR_RiverSP/SWOT_L2_HR_RiverSP_Node_011_022_NA_20240215T151341_20240215T151352_PIC0_01/SWOT_L2_HR_RiverSP_Node_011_022_NA_20240215T151341_20240215T151352_PIC0_01.shp',\n",
       " 'SWOT_L2_HR_RiverSP/SWOT_L2_HR_RiverSP_Node_009_022_NA_20240104T214331_20240104T214342_PIC0_01/SWOT_L2_HR_RiverSP_Node_009_022_NA_20240104T214331_20240104T214342_PIC0_01.shp',\n",
       " 'SWOT_L2_HR_RiverSP/SWOT_L2_HR_RiverSP_Node_008_022_NA_20231215T005824_20231215T005835_PIC0_01/SWOT_L2_HR_RiverSP_Node_008_022_NA_20231215T005824_20231215T005835_PIC0_01.shp']"
      ]
     },
     "execution_count": 4,
     "metadata": {},
     "output_type": "execute_result"
    }
   ],
   "source": [
    "shpNd_022_NA = glob.glob('SWOT_L2_HR_RiverSP/**/*Node*_022_NA*.shp', recursive=True) #Nodes\n",
    "shpNd_022_NA"
   ]
  },
  {
   "cell_type": "code",
   "execution_count": 5,
   "metadata": {},
   "outputs": [],
   "source": [
    "geodataframes = []\n",
    "for i in range(len(shpNd_022_NA)):\n",
    "   geodataframes.append(gpd.read_file(shpNd_022_NA[i]))"
   ]
  },
  {
   "cell_type": "code",
   "execution_count": 6,
   "metadata": {},
   "outputs": [],
   "source": [
    "subsetted_dataframes = []\n",
    "\n",
    "# Loop over the list of dataframes\n",
    "for dataframe in geodataframes:\n",
    "\n",
    "    # Subset the dataframe to the desired columns and append to the list\n",
    "    subsetted_dataframes.append(dataframe[['node_id', 'time_str','lat', 'lon', 'river_name', 'wse', 'width']])"
   ]
  },
  {
   "cell_type": "code",
   "execution_count": 7,
   "metadata": {},
   "outputs": [],
   "source": [
    "result_df_list = []\n",
    "\n",
    "# Number of rows in each dataframe (assuming they all have the same number of rows)\n",
    "num_rows = len(subsetted_dataframes[0])\n",
    "\n",
    "# Iterate over each row index\n",
    "for i in range(num_rows):\n",
    "    # Create a list to store data from each dataframe for the current row\n",
    "    row_data = []\n",
    "    # Iterate over each dataframe and extract the row data\n",
    "    for df in subsetted_dataframes:\n",
    "        row_data.append(df.iloc[i])\n",
    "    # Concatenate the row data into a single dataframe and append it to the result list\n",
    "    result_df_list.append(pd.concat(row_data, axis=1).T)\n"
   ]
  },
  {
   "cell_type": "code",
   "execution_count": 8,
   "metadata": {},
   "outputs": [
    {
     "data": {
      "image/png": "[encoded data removed]",
      "text/plain": [
       "<Figure size 640x480 with 1 Axes>"
      ]
     },
     "metadata": {},
     "output_type": "display_data"
    }
   ],
   "source": [
    "# Function to plot scatter plot from a given dataframe\n",
    "def plot_scatter(dfa):\n",
    "    plot.scatter(dfa['width'], dfa['wse'])\n",
    "    plot.xlabel('width')\n",
    "    plot.ylabel('wse')\n",
    "    plot.title('Node id: ' + df['node_id'].iloc[0])\n",
    "    plot.show()\n",
    "\n",
    "# Select the index of the dataframe you want to plot\n",
    "df_index = 34020\n",
    "#34020\n",
    "#33978\n",
    "#34041\n",
    "# Plot scatter plot for the selected dataframe\n",
    "plot_scatter(result_df_list[df_index])"
   ]
  },
  {
   "cell_type": "code",
   "execution_count": 9,
   "metadata": {},
   "outputs": [
    {
     "data": {
      "text/html": [
       "<div>\n",
       "<style scoped>\n",
       "    .dataframe tbody tr th:only-of-type {\n",
       "        vertical-align: middle;\n",
       "    }\n",
       "\n",
       "    .dataframe tbody tr th {\n",
       "        vertical-align: top;\n",
       "    }\n",
       "\n",
       "    .dataframe thead th {\n",
       "        text-align: right;\n",
       "    }\n",
       "</style>\n",
       "<table border=\"1\" class=\"dataframe\">\n",
       "  <thead>\n",
       "    <tr style=\"text-align: right;\">\n",
       "      <th></th>\n",
       "      <th>node_id</th>\n",
       "      <th>time_str</th>\n",
       "      <th>lat</th>\n",
       "      <th>lon</th>\n",
       "      <th>river_name</th>\n",
       "      <th>wse</th>\n",
       "      <th>width</th>\n",
       "    </tr>\n",
       "  </thead>\n",
       "  <tbody>\n",
       "    <tr>\n",
       "      <th>34020</th>\n",
       "      <td>75163000170171</td>\n",
       "      <td>2024-01-25T18:36:29Z</td>\n",
       "      <td>30.421002</td>\n",
       "      <td>-96.284567</td>\n",
       "      <td>Brazos River</td>\n",
       "      <td>58.66972</td>\n",
       "      <td>1.613588</td>\n",
       "    </tr>\n",
       "    <tr>\n",
       "      <th>34020</th>\n",
       "      <td>75163000170171</td>\n",
       "      <td>2023-11-24T04:21:13Z</td>\n",
       "      <td>30.421563</td>\n",
       "      <td>-96.285164</td>\n",
       "      <td>Brazos River</td>\n",
       "      <td>40.24127</td>\n",
       "      <td>0.012488</td>\n",
       "    </tr>\n",
       "    <tr>\n",
       "      <th>34020</th>\n",
       "      <td>75163000170171</td>\n",
       "      <td>2024-02-15T15:21:34Z</td>\n",
       "      <td>30.420454</td>\n",
       "      <td>-96.285189</td>\n",
       "      <td>Brazos River</td>\n",
       "      <td>53.74517</td>\n",
       "      <td>12.034859</td>\n",
       "    </tr>\n",
       "    <tr>\n",
       "      <th>34020</th>\n",
       "      <td>75163000170171</td>\n",
       "      <td>2024-01-04T21:51:23Z</td>\n",
       "      <td>30.420605</td>\n",
       "      <td>-96.284854</td>\n",
       "      <td>Brazos River</td>\n",
       "      <td>51.11697</td>\n",
       "      <td>10.441105</td>\n",
       "    </tr>\n",
       "    <tr>\n",
       "      <th>34020</th>\n",
       "      <td>75163000170171</td>\n",
       "      <td>2023-12-15T01:06:16Z</td>\n",
       "      <td>30.420665</td>\n",
       "      <td>-96.284826</td>\n",
       "      <td>Brazos River</td>\n",
       "      <td>48.41222</td>\n",
       "      <td>4.395453</td>\n",
       "    </tr>\n",
       "  </tbody>\n",
       "</table>\n",
       "</div>"
      ],
      "text/plain": [
       "              node_id              time_str        lat        lon  \\\n",
       "34020  75163000170171  2024-01-25T18:36:29Z  30.421002 -96.284567   \n",
       "34020  75163000170171  2023-11-24T04:21:13Z  30.421563 -96.285164   \n",
       "34020  75163000170171  2024-02-15T15:21:34Z  30.420454 -96.285189   \n",
       "34020  75163000170171  2024-01-04T21:51:23Z  30.420605 -96.284854   \n",
       "34020  75163000170171  2023-12-15T01:06:16Z  30.420665 -96.284826   \n",
       "\n",
       "         river_name       wse      width  \n",
       "34020  Brazos River  58.66972   1.613588  \n",
       "34020  Brazos River  40.24127   0.012488  \n",
       "34020  Brazos River  53.74517  12.034859  \n",
       "34020  Brazos River  51.11697  10.441105  \n",
       "34020  Brazos River  48.41222   4.395453  "
      ]
     },
     "execution_count": 9,
     "metadata": {},
     "output_type": "execute_result"
    }
   ],
   "source": [
    "result_df_list[34020]"
   ]
  },
  {
   "cell_type": "code",
   "execution_count": null,
   "metadata": {},
   "outputs": [],
   "source": [
    "print(94/382.90, 93/382.73, 95/382.63)"
   ]
  },
  {
   "cell_type": "code",
   "execution_count": null,
   "metadata": {},
   "outputs": [],
   "source": [
    "frames={}\n",
    "for i in range(len(shpNd_022_NA)):\n",
    "        frames[i] = pd.concat([gpd.read_file(shpNd_022_NA[i]).get('node_id'), gpd.read_file(shpNd_022_NA[i]).get('river_name'), gpd.read_file(shpNd_022_NA[i]).get('lat'), \n",
    "        gpd.read_file(shpNd_022_NA[i]).get('lon'), gpd.read_file(shpNd_022_NA[i]).get('wse'), gpd.read_file(shpNd_022_NA[i]).get('width')], axis=1)\n",
    "   "
   ]
  },
  {
   "cell_type": "code",
   "execution_count": null,
   "metadata": {},
   "outputs": [],
   "source": [
    "frames[1]"
   ]
  },
  {
   "cell_type": "code",
   "execution_count": null,
   "metadata": {},
   "outputs": [],
   "source": [
    "first_rows = [frames.iloc[0] for frames in frames]"
   ]
  },
  {
   "cell_type": "code",
   "execution_count": null,
   "metadata": {},
   "outputs": [],
   "source": [
    "#Read the shapefile. [0] is used to read the first shapefile in the list\n",
    "gpd.read_file(shpNd[1]).head()"
   ]
  },
  {
   "cell_type": "code",
   "execution_count": null,
   "metadata": {},
   "outputs": [],
   "source": [
    "m = gpd.read_file(shpNd[0]).explore('wse', cmap='viridis', legend=True)\n",
    "m"
   ]
  },
  {
   "cell_type": "code",
   "execution_count": null,
   "metadata": {},
   "outputs": [],
   "source": [
    "SWOT_HR_shp1 = gpd.read_file(shpNd[0])[['river_name','p_wse','p_width','geometry']]\n",
    "SWOT_HR_shp1 =SWOT_HR_shp1.rename(columns={'river_name': 'River Name','p_wse':'Water Surface Elevation','p_width':'River Width'})\n",
    "SWOT_HR_shp1.head()"
   ]
  },
  {
   "cell_type": "code",
   "execution_count": null,
   "metadata": {},
   "outputs": [],
   "source": [
    "L = SWOT_HR_shp1\n",
    "updated_m = L.explore(column='Water Surface Elevation', cmap='viridis', legend=True)\n",
    "\n",
    "updated_m"
   ]
  },
  {
   "cell_type": "code",
   "execution_count": null,
   "metadata": {},
   "outputs": [],
   "source": [
    "L.crs "
   ]
  },
  {
   "cell_type": "code",
   "execution_count": null,
   "metadata": {},
   "outputs": [],
   "source": [
    "files = glob.glob(\"**/*\")\n",
    "files"
   ]
  },
  {
   "cell_type": "code",
   "execution_count": null,
   "metadata": {},
   "outputs": [],
   "source": [
    "shapes =   glob.glob(os.path.join('SWOT_L2_HR_RiverSP','*','*.shp'))\n",
    "list_of_dfs = []\n",
    "for f in shapes:\n",
    "    df = gpd.read_file(f)\n",
    "    list_of_dfs.append(df)\n",
    "\n",
    "list_of_dfs[0]"
   ]
  },
  {
   "cell_type": "code",
   "execution_count": null,
   "metadata": {},
   "outputs": [],
   "source": [
    "list_of_dfs[1]"
   ]
  }
 ],
 "metadata": {
  "kernelspec": {
   "display_name": "hypsometry",
   "language": "python",
   "name": "python3"
  },
  "language_info": {
   "codemirror_mode": {
    "name": "ipython",
    "version": 3
   },
   "file_extension": ".py",
   "mimetype": "text/x-python",
   "name": "python",
   "nbconvert_exporter": "python",
   "pygments_lexer": "ipython3",
   "version": "3.11.6"
  }
 },
 "nbformat": 4,
 "nbformat_minor": 2
}
